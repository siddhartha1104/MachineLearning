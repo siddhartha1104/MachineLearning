{
  "nbformat": 4,
  "nbformat_minor": 0,
  "metadata": {
    "colab": {
      "provenance": []
    },
    "kernelspec": {
      "name": "python3",
      "display_name": "Python 3"
    },
    "language_info": {
      "name": "python"
    }
  },
  "cells": [
    {
      "cell_type": "markdown",
      "source": [
        "# Machine Learning Lab - BCSE209P\n",
        "# Assessment – 1\n",
        "**Name: Siddhartha Pathak**\n",
        "\n",
        "**Reg No. 21BCE3930**"
      ],
      "metadata": {
        "id": "7jFsYxUPPioD"
      }
    },
    {
      "cell_type": "code",
      "source": [],
      "metadata": {
        "id": "whb2y0F7PPAX"
      },
      "execution_count": null,
      "outputs": []
    },
    {
      "cell_type": "markdown",
      "source": [
        "# Q.No.a) Demonstrate the possible approaches to handle the missing value in any real world data and justify the same."
      ],
      "metadata": {
        "id": "lHsD0AsDPupG"
      }
    },
    {
      "cell_type": "code",
      "source": [
        "import pandas as pd\n",
        "import numpy as np\n",
        "from sklearn.impute import SimpleImputer\n",
        "from sklearn.impute import KNNImputer"
      ],
      "metadata": {
        "id": "3WrQCBefPv2C"
      },
      "execution_count": 2,
      "outputs": []
    },
    {
      "cell_type": "code",
      "source": [
        "data = {\n",
        "    'age': [25, 30, np.nan, 40, 35, np.nan, 50],\n",
        "    'salary': [50000, 60000, 70000, np.nan, 90000, 100000, np.nan],\n",
        "    'gender': ['Male', 'Female', np.nan, 'Female', 'Male', 'Female', 'Male'],\n",
        "}\n",
        "\n",
        "# Convert to DataFrame\n",
        "df = pd.DataFrame(data)\n",
        "\n",
        "# Display the dataset\n",
        "print(\"Original Dataset:\")\n",
        "print(df)"
      ],
      "metadata": {
        "colab": {
          "base_uri": "https://localhost:8080/",
          "height": 0
        },
        "id": "kwGdY9V-P0Hg",
        "outputId": "62ee23de-94ea-4b65-e1b3-94471458a8f7"
      },
      "execution_count": 3,
      "outputs": [
        {
          "output_type": "stream",
          "name": "stdout",
          "text": [
            "Original Dataset:\n",
            "    age    salary  gender\n",
            "0  25.0   50000.0    Male\n",
            "1  30.0   60000.0  Female\n",
            "2   NaN   70000.0     NaN\n",
            "3  40.0       NaN  Female\n",
            "4  35.0   90000.0    Male\n",
            "5   NaN  100000.0  Female\n",
            "6  50.0       NaN    Male\n"
          ]
        }
      ]
    },
    {
      "cell_type": "code",
      "source": [],
      "metadata": {
        "id": "CMCLeNPJP12M"
      },
      "execution_count": null,
      "outputs": []
    },
    {
      "cell_type": "markdown",
      "source": [
        "# Listwise Deletion\n",
        "# Remove rows with missing values using dropna()."
      ],
      "metadata": {
        "id": "hsIT5SJlP-rc"
      }
    },
    {
      "cell_type": "code",
      "source": [
        "# Listwise deletion (dropping rows with any missing values)\n",
        "df_listwise = df.dropna()\n",
        "\n",
        "print(\"\\nAfter Listwise Deletion:\")\n",
        "print(df_listwise)\n"
      ],
      "metadata": {
        "colab": {
          "base_uri": "https://localhost:8080/",
          "height": 0
        },
        "id": "A_Oc77v5P_Ji",
        "outputId": "74d7d648-eefe-46c4-8977-680a8e4d47ff"
      },
      "execution_count": 4,
      "outputs": [
        {
          "output_type": "stream",
          "name": "stdout",
          "text": [
            "\n",
            "After Listwise Deletion:\n",
            "    age   salary  gender\n",
            "0  25.0  50000.0    Male\n",
            "1  30.0  60000.0  Female\n",
            "4  35.0  90000.0    Male\n"
          ]
        }
      ]
    },
    {
      "cell_type": "markdown",
      "source": [
        "# 1. Mean/Median/Mode Imputation"
      ],
      "metadata": {
        "id": "5uqAJebcQC6P"
      }
    },
    {
      "cell_type": "code",
      "source": [
        "# Create a copy of the dataset to perform imputation\n",
        "df_imputed = df.copy()\n",
        "\n",
        "# Impute numerical columns using mean for 'age' and 'salary'\n",
        "imputer_mean = SimpleImputer(strategy='mean')\n",
        "df_imputed['age'] = imputer_mean.fit_transform(df[['age']]).ravel()\n",
        "df_imputed['salary'] = imputer_mean.fit_transform(df[['salary']]).ravel()\n",
        "\n",
        "print(\"\\nAfter Mean Imputation for 'age' and 'salary':\")\n",
        "print(df_imputed)\n",
        "\n",
        "# Impute categorical 'gender' column using mode\n",
        "imputer_mode = SimpleImputer(strategy='most_frequent')\n",
        "df_imputed['gender'] = imputer_mode.fit_transform(df[['gender']]).ravel()\n",
        "\n",
        "print(\"\\nAfter Mode Imputation for 'gender':\")\n",
        "print(df_imputed)\n"
      ],
      "metadata": {
        "colab": {
          "base_uri": "https://localhost:8080/",
          "height": 0
        },
        "id": "SpXxGqd-QArm",
        "outputId": "2c4e9e84-226c-4c10-e2ab-c188cbe293a0"
      },
      "execution_count": 5,
      "outputs": [
        {
          "output_type": "stream",
          "name": "stdout",
          "text": [
            "\n",
            "After Mean Imputation for 'age' and 'salary':\n",
            "    age    salary  gender\n",
            "0  25.0   50000.0    Male\n",
            "1  30.0   60000.0  Female\n",
            "2  36.0   70000.0     NaN\n",
            "3  40.0   74000.0  Female\n",
            "4  35.0   90000.0    Male\n",
            "5  36.0  100000.0  Female\n",
            "6  50.0   74000.0    Male\n",
            "\n",
            "After Mode Imputation for 'gender':\n",
            "    age    salary  gender\n",
            "0  25.0   50000.0    Male\n",
            "1  30.0   60000.0  Female\n",
            "2  36.0   70000.0  Female\n",
            "3  40.0   74000.0  Female\n",
            "4  35.0   90000.0    Male\n",
            "5  36.0  100000.0  Female\n",
            "6  50.0   74000.0    Male\n"
          ]
        }
      ]
    },
    {
      "cell_type": "code",
      "source": [],
      "metadata": {
        "id": "xJKZ2cA4QIQF"
      },
      "execution_count": 5,
      "outputs": []
    },
    {
      "cell_type": "markdown",
      "source": [
        "# 2. K-Nearest Neighbors (KNN) Imputation"
      ],
      "metadata": {
        "id": "J0Nj8RW0QM6O"
      }
    },
    {
      "cell_type": "code",
      "source": [
        "# Create a new sample dataset with missing values\n",
        "df_knn = pd.DataFrame({\n",
        "    'age': [25, 30, np.nan, 40, 35, np.nan, 50],\n",
        "    'salary': [50000, 60000, 70000, np.nan, 90000, 100000, np.nan],\n",
        "})\n",
        "\n",
        "# KNN imputation\n",
        "knn_imputer = KNNImputer(n_neighbors=2)\n",
        "df_knn_imputed = knn_imputer.fit_transform(df_knn)\n",
        "\n",
        "# Convert back to DataFrame\n",
        "df_knn_imputed = pd.DataFrame(df_knn_imputed, columns=['age', 'salary'])\n",
        "\n",
        "print(\"\\nAfter KNN Imputation:\")\n",
        "print(df_knn_imputed)\n"
      ],
      "metadata": {
        "colab": {
          "base_uri": "https://localhost:8080/",
          "height": 0
        },
        "id": "jpSGQ11yQLeH",
        "outputId": "ecf1d665-96a7-42b6-dd80-f808e242a613"
      },
      "execution_count": 6,
      "outputs": [
        {
          "output_type": "stream",
          "name": "stdout",
          "text": [
            "\n",
            "After KNN Imputation:\n",
            "    age    salary\n",
            "0  25.0   50000.0\n",
            "1  30.0   60000.0\n",
            "2  27.5   70000.0\n",
            "3  40.0   75000.0\n",
            "4  35.0   90000.0\n",
            "5  32.5  100000.0\n",
            "6  50.0   75000.0\n"
          ]
        }
      ]
    },
    {
      "cell_type": "code",
      "source": [],
      "metadata": {
        "id": "L_IbzWZ2QPdu"
      },
      "execution_count": null,
      "outputs": []
    },
    {
      "cell_type": "markdown",
      "source": [
        "# 3. Handling Categorical Data: One-Hot Encoding and Imputation"
      ],
      "metadata": {
        "id": "5gvSxae9QSZb"
      }
    },
    {
      "cell_type": "code",
      "source": [
        "# Create a DataFrame with categorical data\n",
        "df_cat = pd.DataFrame({\n",
        "    'gender': ['Male', 'Female', np.nan, 'Female', 'Male', 'Female', 'Male'],\n",
        "})\n",
        "\n",
        "# Impute missing values using the most frequent (mode)\n",
        "imputer_mode = SimpleImputer(strategy='most_frequent')\n",
        "\n",
        "# Since SimpleImputer returns a 2D array, we need to flatten it to 1D\n",
        "df_cat['gender'] = imputer_mode.fit_transform(df_cat[['gender']]).ravel()\n",
        "\n",
        "print(\"\\nAfter Mode Imputation for Categorical Data:\")\n",
        "print(df_cat)\n",
        "\n",
        "# One-Hot Encoding of categorical data\n",
        "df_encoded = pd.get_dummies(df_cat, drop_first=True)\n",
        "\n",
        "print(\"\\nAfter One-Hot Encoding:\")\n",
        "print(df_encoded)\n"
      ],
      "metadata": {
        "colab": {
          "base_uri": "https://localhost:8080/",
          "height": 0
        },
        "id": "AlmNwHVhQUHQ",
        "outputId": "7a664b5a-6142-4c68-9629-22972b724765"
      },
      "execution_count": 8,
      "outputs": [
        {
          "output_type": "stream",
          "name": "stdout",
          "text": [
            "\n",
            "After Mode Imputation for Categorical Data:\n",
            "   gender\n",
            "0    Male\n",
            "1  Female\n",
            "2  Female\n",
            "3  Female\n",
            "4    Male\n",
            "5  Female\n",
            "6    Male\n",
            "\n",
            "After One-Hot Encoding:\n",
            "   gender_Male\n",
            "0         True\n",
            "1        False\n",
            "2        False\n",
            "3        False\n",
            "4         True\n",
            "5        False\n",
            "6         True\n"
          ]
        }
      ]
    },
    {
      "cell_type": "code",
      "source": [],
      "metadata": {
        "id": "Y2tBQmCRQXz9"
      },
      "execution_count": null,
      "outputs": []
    },
    {
      "cell_type": "markdown",
      "source": [
        "# 4. Multiple Imputation using Iterative Imputer (Advanced)"
      ],
      "metadata": {
        "id": "cofzp5UdQccb"
      }
    },
    {
      "cell_type": "code",
      "source": [
        "from sklearn.experimental import enable_iterative_imputer  # noqa\n",
        "from sklearn.impute import IterativeImputer\n",
        "\n",
        "# Create a new sample dataset with missing values\n",
        "df_multi = pd.DataFrame({\n",
        "    'age': [25, 30, np.nan, 40, 35, np.nan, 50],\n",
        "    'salary': [50000, 60000, 70000, np.nan, 90000, 100000, np.nan],\n",
        "})\n",
        "\n",
        "# Multiple imputation\n",
        "iter_imputer = IterativeImputer(random_state=0)\n",
        "df_multi_imputed = iter_imputer.fit_transform(df_multi)\n",
        "\n",
        "# Convert back to DataFrame\n",
        "df_multi_imputed = pd.DataFrame(df_multi_imputed, columns=['age', 'salary'])\n",
        "\n",
        "print(\"\\nAfter Multiple Imputation:\")\n",
        "print(df_multi_imputed)\n"
      ],
      "metadata": {
        "colab": {
          "base_uri": "https://localhost:8080/",
          "height": 0
        },
        "id": "ejnWAfhJQdol",
        "outputId": "659a8958-86d6-44c2-a204-213e4cbae98d"
      },
      "execution_count": 9,
      "outputs": [
        {
          "output_type": "stream",
          "name": "stdout",
          "text": [
            "\n",
            "After Multiple Imputation:\n",
            "         age         salary\n",
            "0  25.000000   50000.000000\n",
            "1  30.000000   60000.000000\n",
            "2  32.576063   70000.000000\n",
            "3  40.000000   92019.586436\n",
            "4  35.000000   90000.000000\n",
            "5  44.112334  100000.000000\n",
            "6  50.000000  119066.598468\n"
          ]
        },
        {
          "output_type": "stream",
          "name": "stderr",
          "text": [
            "/usr/local/lib/python3.10/dist-packages/sklearn/impute/_iterative.py:800: ConvergenceWarning: [IterativeImputer] Early stopping criterion not reached.\n",
            "  warnings.warn(\n"
          ]
        }
      ]
    },
    {
      "cell_type": "code",
      "source": [],
      "metadata": {
        "id": "VAkahBtbQfai"
      },
      "execution_count": null,
      "outputs": []
    },
    {
      "cell_type": "markdown",
      "source": [
        "# Conclusion\n",
        "\n",
        "Different methods to handle missing values in a dataset:\n",
        "\n",
        "1. **Listwise Deletion**: Useful when the missing data is minimal and random.\n",
        "2. **Mean/Median/Mode Imputation**: Simple and effective for numerical data that is missing completely at random.\n",
        "3. **KNN Imputation**: Suitable for datasets where relationships between features can predict missing values.\n",
        "4. **Multiple Imputation**: Provides a robust way to handle missing data by capturing the uncertainty of the missingness.\n",
        "\n",
        "Choosing the right method depends on the nature of the dataset, the proportion of missing data, and the specific requirements of the machine learning task.\n"
      ],
      "metadata": {
        "id": "dMYYEdgbQh5A"
      }
    },
    {
      "cell_type": "code",
      "source": [],
      "metadata": {
        "id": "g9EHP6yeQiXM"
      },
      "execution_count": null,
      "outputs": []
    }
  ]
}