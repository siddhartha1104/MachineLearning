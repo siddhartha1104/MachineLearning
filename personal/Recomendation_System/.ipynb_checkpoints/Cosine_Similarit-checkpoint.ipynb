{
 "cells": [
  {
   "cell_type": "markdown",
   "id": "c76c93bc-6f55-4806-adfb-f57f392e4c8a",
   "metadata": {},
   "source": [
    "# Cosine similarity - Range[0 to 1] "
   ]
  },
  {
   "cell_type": "markdown",
   "id": "79f3e7da-96a4-4a84-abf2-52ce5375a754",
   "metadata": {},
   "source": [
    "**if value closer to 0 --> Not Recommended**"
   ]
  },
  {
   "cell_type": "markdown",
   "id": "966321a4-81de-400b-b922-e7f38b3c1424",
   "metadata": {},
   "source": [
    "**if value closer to 1 --> Recommended**"
   ]
  },
  {
   "cell_type": "code",
   "execution_count": null,
   "id": "9f30f772-5017-4bda-a25d-b6dadcb365c5",
   "metadata": {},
   "outputs": [],
   "source": []
  },
  {
   "cell_type": "code",
   "execution_count": 8,
   "id": "8a60bb6f-356d-407d-b5fc-4f522b0ae4f7",
   "metadata": {},
   "outputs": [],
   "source": [
    "from math import*"
   ]
  },
  {
   "cell_type": "code",
   "execution_count": 10,
   "id": "35805d72-3f73-4c40-b077-a6d42beb71b9",
   "metadata": {},
   "outputs": [],
   "source": [
    "def square_rooted(x):\n",
    "    return round(sqrt(sum([a*a for a in x])),3)\n",
    "\n",
    "def cosine_similarity(x,y):\n",
    "    numerator = sum(a*b for a,b in zip(x,y))\n",
    "    denominator= square_rooted(x)*square_rooted(y)\n",
    "    return round(numerator/float(denominator),3)"
   ]
  },
  {
   "cell_type": "code",
   "execution_count": 14,
   "id": "0e0abaca-c6ef-4234-a2d2-082c71c74bbf",
   "metadata": {},
   "outputs": [
    {
     "name": "stdout",
     "output_type": "stream",
     "text": [
      "0.972\n"
     ]
    }
   ],
   "source": [
    "print(cosine_similarity([3,45,7,2],[2,54,13,15]))"
   ]
  },
  {
   "cell_type": "code",
   "execution_count": null,
   "id": "ada85601-b1e0-49f8-9c90-41a974d6512f",
   "metadata": {},
   "outputs": [],
   "source": []
  }
 ],
 "metadata": {
  "kernelspec": {
   "display_name": "Python 3 (ipykernel)",
   "language": "python",
   "name": "python3"
  },
  "language_info": {
   "codemirror_mode": {
    "name": "ipython",
    "version": 3
   },
   "file_extension": ".py",
   "mimetype": "text/x-python",
   "name": "python",
   "nbconvert_exporter": "python",
   "pygments_lexer": "ipython3",
   "version": "3.11.7"
  }
 },
 "nbformat": 4,
 "nbformat_minor": 5
}
