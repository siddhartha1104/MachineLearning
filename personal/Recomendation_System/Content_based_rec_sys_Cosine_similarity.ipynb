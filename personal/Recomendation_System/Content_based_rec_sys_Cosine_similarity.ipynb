{
 "cells": [
  {
   "cell_type": "markdown",
   "id": "3456fcb1-a046-4419-8f4f-98aeb8d00599",
   "metadata": {},
   "source": [
    "# Cosine similarity - Range[0 to 1] "
   ]
  },
  {
   "cell_type": "markdown",
   "id": "9838945f-e126-45a6-b6d7-323e97dc1bf4",
   "metadata": {},
   "source": [
    "**if value closer to 0 --> Not Recommended**"
   ]
  },
  {
   "cell_type": "markdown",
   "id": "40ccbb6b-b7ab-491d-bb98-2acc30b3835e",
   "metadata": {},
   "source": [
    "**if value closer to 1 --> Recommended**"
   ]
  },
  {
   "cell_type": "code",
   "execution_count": 14,
   "id": "818d938a-56e6-479e-9c7e-a6da5923cb81",
   "metadata": {},
   "outputs": [],
   "source": [
    "from math import*"
   ]
  },
  {
   "cell_type": "code",
   "execution_count": 16,
   "id": "d70137d6-9760-4b0a-99f9-e14420f132ed",
   "metadata": {},
   "outputs": [],
   "source": [
    "def square_rooted(x):\n",
    "    return round(sqrt(sum([a*a for a in x])),3)\n",
    "\n",
    "def cosine_similarity(x,y):\n",
    "    numerator = sum(a*b for a,b in zip(x,y))\n",
    "    denominator= square_rooted(x)*square_rooted(y)\n",
    "    return round(numerator/float(denominator),3)"
   ]
  },
  {
   "cell_type": "code",
   "execution_count": 18,
   "id": "d9b0afd8-6fb0-4ecd-97d4-011f8f5e6f76",
   "metadata": {},
   "outputs": [
    {
     "name": "stdout",
     "output_type": "stream",
     "text": [
      "0.972\n"
     ]
    }
   ],
   "source": [
    "print(cosine_similarity([3,45,7,2],[2,54,13,15]))"
   ]
  },
  {
   "cell_type": "code",
   "execution_count": 20,
   "id": "fc89775f-00c9-4ae1-bce4-e5672d953668",
   "metadata": {},
   "outputs": [],
   "source": [
    "import pandas as pd\n",
    "import numpy as np\n",
    "from sklearn.metrics.pairwise import cosine_similarity\n",
    "from sklearn.feature_extraction.text import CountVectorizer"
   ]
  },
  {
   "cell_type": "code",
   "execution_count": null,
   "id": "f68b7693-1976-454b-8418-a3ed1a09b755",
   "metadata": {},
   "outputs": [],
   "source": []
  }
 ],
 "metadata": {
  "kernelspec": {
   "display_name": "Python 3 (ipykernel)",
   "language": "python",
   "name": "python3"
  },
  "language_info": {
   "codemirror_mode": {
    "name": "ipython",
    "version": 3
   },
   "file_extension": ".py",
   "mimetype": "text/x-python",
   "name": "python",
   "nbconvert_exporter": "python",
   "pygments_lexer": "ipython3",
   "version": "3.11.7"
  }
 },
 "nbformat": 4,
 "nbformat_minor": 5
}
